{
 "cells": [
  {
   "cell_type": "code",
   "execution_count": null,
   "id": "78af58ac",
   "metadata": {},
   "outputs": [],
   "source": [
    "# Question:6\n",
    "# You can turn a word into pig-Latin using the following two rules (simplified):\n",
    "#• If the word starts with a consonant, move that letter to the end and append 'ay'. For example, 'happy' becomes 'appyhay' and 'pencil' becomes 'encilpay'.\n",
    "#• If the word starts with a vowel, simply append 'way' to the end of the word. For example, 'enter' becomes 'enterway' and 'other' becomes 'otherway' . For our purposes, there are 5 vowels: a, e, i, o, u (so we count y as a consonant).\n",
    "# Write a function pig() that takes a word (i.e., a string) as input and returns its pig-Latin form. Your function should still work if the input word contains upper case characters. Your output should always be lower case however.\n",
    "#>>> pig('happy')\n",
    "#'appyhay'\n",
    "#>>> pig('Enter')\n",
    "#'enterway'\n"
   ]
  },
  {
   "cell_type": "code",
   "execution_count": 1,
   "id": "638cfe56",
   "metadata": {},
   "outputs": [
    {
     "name": "stdout",
     "output_type": "stream",
     "text": [
      "Enter your word: trim\n",
      "\n",
      "New word :rimtay\n"
     ]
    }
   ],
   "source": [
    "word = input(\"Enter your word: \")                    #Getting an input string from user\n",
    "vowels = ['A','a','e','E','i','I','o','O','u','U']   #Predefining vowels\n",
    "def pig(word):                                       # Definig a function named pig\n",
    "    if word[0] in vowels:                            #checking if first letter of input contains any vowels\n",
    "        word += \"way\"                                # Appending the word with 'way'\n",
    "        return(word)                                 # Returning the new word\n",
    "    else:\n",
    "        first = word[0:1]                           # If the word starts with consonent, Taking the first letter\n",
    "        word +=(first + 'ay')                       # Appending word with first letter and 'ay'\n",
    "        final_word = word[1:]                       # Slicing the first letter of word to get desired output\n",
    "        return(final_word)\n",
    "        \n",
    "print(\"\\nNew word :\"+(pig(word)))                  # Calling function inside print"
   ]
  },
  {
   "cell_type": "code",
   "execution_count": null,
   "id": "4cce6aaa",
   "metadata": {},
   "outputs": [],
   "source": []
  }
 ],
 "metadata": {
  "kernelspec": {
   "display_name": "Python 3 (ipykernel)",
   "language": "python",
   "name": "python3"
  },
  "language_info": {
   "codemirror_mode": {
    "name": "ipython",
    "version": 3
   },
   "file_extension": ".py",
   "mimetype": "text/x-python",
   "name": "python",
   "nbconvert_exporter": "python",
   "pygments_lexer": "ipython3",
   "version": "3.9.7"
  }
 },
 "nbformat": 4,
 "nbformat_minor": 5
}
