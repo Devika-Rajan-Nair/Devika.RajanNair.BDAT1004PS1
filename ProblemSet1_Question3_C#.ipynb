{
 "cells": [
  {
   "cell_type": "code",
   "execution_count": null,
   "id": "55ee743e",
   "metadata": {},
   "outputs": [],
   "source": [
    "Question 3 C#\n",
    "-------------\n",
    "Implement function triangleArea(a,b,c) that takes as input the lengths of the 3\n",
    "sides of a triangle and returns the area of the triangle. By Heron's formula, the area\n",
    "of a triangle with side lengths a, b, and c is s(s - a)(s -b)(s -c), where s = (a +b + c) /2.\n",
    ">>> triangleArea(2,2,2)\n",
    "1.7320508075688772"
   ]
  },
  {
   "cell_type": "code",
   "execution_count": 2,
   "id": "82611e12",
   "metadata": {},
   "outputs": [
    {
     "name": "stdout",
     "output_type": "stream",
     "text": [
      "Enter the three sides of your triangle: \n",
      "The area of triangle with given sides is: 0\n"
     ]
    }
   ],
   "source": [
    "// Area of triangle\n",
    "Console.WriteLine(\"Enter the three sides of your triangle: \");\n",
    "double a = Convert.ToDouble(Console.ReadLine());\n",
    "double b = Convert.ToDouble(Console.ReadLine());\n",
    "double c = Convert.ToDouble(Console.ReadLine());\n",
    "\n",
    "triangleArea(a,b,c);\n",
    "static void triangleArea(double a,double b,double c)\n",
    "{\n",
    "    double s = ((a + b + c) / 2);\n",
    "    double area = Math.Sqrt(s*(s-a)*(s-b)*(s-c));\n",
    "    Console.WriteLine(\"The area of triangle with given sides is: \" + area);\n",
    "}"
   ]
  },
  {
   "cell_type": "code",
   "execution_count": null,
   "id": "c0617e21",
   "metadata": {},
   "outputs": [],
   "source": []
  }
 ],
 "metadata": {
  "kernelspec": {
   "display_name": ".NET (C#)",
   "language": "C#",
   "name": ".net-csharp"
  },
  "language_info": {
   "file_extension": ".cs",
   "mimetype": "text/x-csharp",
   "name": "C#",
   "pygments_lexer": "csharp",
   "version": "8.0"
  }
 },
 "nbformat": 4,
 "nbformat_minor": 5
}
