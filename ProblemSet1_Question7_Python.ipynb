{
 "cells": [
  {
   "cell_type": "code",
   "execution_count": null,
   "id": "5d2712b0",
   "metadata": {},
   "outputs": [],
   "source": [
    "Question 7:\n",
    "    File bloodtype1.txt records blood-types of patients (A, B, AB, O or OO) at a clinic. Write a function bldcount() that reads the file with name name and reports (i.e., prints) how many patients there are in each bloodtype.\n",
    ">>> bldcount('bloodtype.txt')\n",
    "There are 10 patients of blood type A.\n",
    "There is one patient of blood type B.\n",
    "There are 10 patients of blood type AB.\n",
    "There are 12 patients of blood type O.\n",
    "There are no patients of blood type OO."
   ]
  },
  {
   "cell_type": "code",
   "execution_count": 30,
   "id": "714fa579",
   "metadata": {},
   "outputs": [
    {
     "name": "stdout",
     "output_type": "stream",
     "text": [
      "As per the given file:\n",
      "\n",
      "There are 15 Patients of blood type A .\n",
      "There is 1 patient of blood type B .\n",
      "There are 13 Patients of blood type AB .\n",
      "There are 15 Patients of blood type O .\n",
      "There are 0 Patients of blood type OO .\n"
     ]
    }
   ],
   "source": [
    "infile=open('C:\\\\Users\\\\devik\\\\OneDrive\\\\Documents\\\\BDAT-Sem1\\\\1004_Data Prgming_Thomas\\\\bloodtype1.txt','r')  # Opening our txt file from a local path\n",
    "lineList= infile.read()                            #Getting the content fo our text file\n",
    "infile.close()                                     #python function to close the text file\n",
    "\n",
    "def bldcount(infile):                              #Defining the function\n",
    "    data_list = lineList.split()                   #Splitting the Bloodtypes given in our text file(string) into individual words\n",
    "    bloodgroup_array = ['A','B','AB','O','OO']     #Specifying the default bloodtypes into an array\n",
    "    print(\"As per the given file:\\n\")              \n",
    "    for bloodgroup in bloodgroup_array:             #Searching for count of each bloodtype from the list\n",
    "        count = data_list.count(bloodgroup)         #Taking the total count of each bloodtype from the list as per the bloodtypes given in our array\n",
    "        if count == 1:\n",
    "            print(\"There is\",count, \"patient of blood type\",bloodgroup,\".\")    #Print statement for a single value\n",
    "        else:\n",
    "            print(\"There are\",count, 'Patients of blood type' ,bloodgroup,\".\") # Print statement for values having count greater than 1\n",
    "        \n",
    "bldcount(infile)                                  #Calling the bldcount function\n"
   ]
  },
  {
   "cell_type": "code",
   "execution_count": null,
   "id": "a805ecc5",
   "metadata": {},
   "outputs": [],
   "source": []
  }
 ],
 "metadata": {
  "kernelspec": {
   "display_name": "Python 3 (ipykernel)",
   "language": "python",
   "name": "python3"
  },
  "language_info": {
   "codemirror_mode": {
    "name": "ipython",
    "version": 3
   },
   "file_extension": ".py",
   "mimetype": "text/x-python",
   "name": "python",
   "nbconvert_exporter": "python",
   "pygments_lexer": "ipython3",
   "version": "3.9.7"
  }
 },
 "nbformat": 4,
 "nbformat_minor": 5
}
