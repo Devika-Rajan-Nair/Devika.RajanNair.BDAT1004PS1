{
 "cells": [
  {
   "cell_type": "code",
   "execution_count": null,
   "id": "aec81e47",
   "metadata": {},
   "outputs": [],
   "source": [
    "Write a program in C# Sharp to separate odd and even integers in separate arrays."
   ]
  },
  {
   "cell_type": "code",
   "execution_count": 1,
   "id": "780f2ed1",
   "metadata": {},
   "outputs": [
    {
     "name": "stdout",
     "output_type": "stream",
     "text": [
      "Enter your length of array: \n",
      "Enter your numbers:\n",
      "The odd numbers are:\n",
      "The even numbers are:\n"
     ]
    }
   ],
   "source": [
    "//Write a program in C# Sharp to separate odd and even integers in separate arrays.\n",
    "Console.WriteLine(\"Enter your length of array: \");\n",
    "int l = Convert.ToInt32(Console.ReadLine());\n",
    "\n",
    "int[] array1 = new int[l];\n",
    "int[] even = new int[l];\n",
    "int[] odd = new int[l];\n",
    "int even_length = 0, odd_length = 0;\n",
    "int x = 0, y = 0;\n",
    "Console.WriteLine(\"Enter your numbers:\");\n",
    "for (int i = 0; i < l; i++)\n",
    "{\n",
    "    array1[i] = Convert.ToInt32(Console.ReadLine());\n",
    "    if (array1[i] % 2 == 0)\n",
    "    {\n",
    "        even[y] = array1[i];\n",
    "        y++;\n",
    "        even_length++;\n",
    "    }\n",
    "    else\n",
    "    {\n",
    "        odd[x] = array1[i];\n",
    "        x++;\n",
    "        odd_length++;\n",
    "    }\n",
    "}\n",
    "\n",
    "Console.WriteLine(\"The odd numbers are:\");\n",
    "for (int i = 0; i < odd_length; i++)\n",
    "{\n",
    "    Console.WriteLine(odd[i]);\n",
    "}\n",
    "Console.WriteLine(\"The even numbers are:\");\n",
    "for (int i = 0; i < even_length; i++)\n",
    "{\n",
    "    Console.WriteLine(even[i]);\n",
    "}"
   ]
  },
  {
   "cell_type": "code",
   "execution_count": null,
   "id": "fbb5567d",
   "metadata": {},
   "outputs": [],
   "source": []
  }
 ],
 "metadata": {
  "kernelspec": {
   "display_name": ".NET (C#)",
   "language": "C#",
   "name": ".net-csharp"
  },
  "language_info": {
   "file_extension": ".cs",
   "mimetype": "text/x-csharp",
   "name": "C#",
   "pygments_lexer": "csharp",
   "version": "8.0"
  }
 },
 "nbformat": 4,
 "nbformat_minor": 5
}
