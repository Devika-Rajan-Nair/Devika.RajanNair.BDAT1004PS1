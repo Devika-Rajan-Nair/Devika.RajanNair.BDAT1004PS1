{
 "cells": [
  {
   "cell_type": "markdown",
   "id": "0bcba9b3",
   "metadata": {},
   "source": [
    "#Question 2\n",
    "Write (and evaluate) C# expressions that answer these questions:\n",
    "a. How many letters are there in 'Supercalifragilisticexpialidocious'?\n",
    "b. Does 'Supercalifragilisticexpialidocious' contain 'ice' as a substring?\n",
    "c. Which of the following words is the longest:\n",
    "Supercalifragilisticexpialidocious, Honorificabilitudinitatibus, or\n",
    "Bababadalgharaghtakamminarronnkonn?\n",
    "d. Which composer comes first in the dictionary: 'Berlioz', 'Borodin', 'Brian',\n",
    "'Bartok', 'Bellini', 'Buxtehude', 'Bernstein'. Which one comes last?"
   ]
  },
  {
   "cell_type": "code",
   "execution_count": null,
   "id": "0d18010b",
   "metadata": {},
   "outputs": [],
   "source": [
    "#2.a.How many letters are there in 'Supercalifragilisticexpialidocious'\n",
    "\n",
    "Console.WriteLine(\"Enter your string to check the number of letters: \");\n",
    "string input = Console.ReadLine();\n",
    "int input_length = input.Length;\n",
    "Console.WriteLine(\"Number of words in \" + input + \" is :\" + input_length);\n"
   ]
  },
  {
   "cell_type": "code",
   "execution_count": null,
   "id": "903a48af",
   "metadata": {},
   "outputs": [],
   "source": [
    "#2.b.Does 'Supercalifragilisticexpialidocious' contain 'ice' as a substring?\n",
    "\n",
    "if (input.Contains(\"ice\") == true)\n",
    "{\n",
    "    Console.WriteLine(\"The given word contains ice\");\n",
    "}\n",
    "else\n",
    "{\n",
    "    Console.WriteLine(\"The given word doesn't contin ice in it\");\n",
    "}"
   ]
  },
  {
   "cell_type": "code",
   "execution_count": null,
   "id": "08a67e79",
   "metadata": {},
   "outputs": [],
   "source": [
    "#2.c. Which of the following words is the longest:\n",
    "#Supercalifragilisticexpialidocious, Honorificabilitudinitatibus, or\n",
    "#Bababadalgharaghtakamminarronnkonn?\n",
    "#\n",
    "\n",
    "Console.WriteLine(\"Enter three words to compare\");\n",
    "\n",
    "string[] array1 = new string[3];\n",
    "int mylength = 0;\n",
    "string result = \"\";\n",
    "\n",
    "for (int i = 0; i < 3; i++)\n",
    "{\n",
    "    array1[i] = Console.ReadLine();\n",
    "\n",
    "}\n",
    "\n",
    "for (int j = 0; j < 3; j++)\n",
    "{\n",
    "    if (array1[j].Length > mylength)\n",
    "    {\n",
    "        mylength = array1[j].Length;\n",
    "    }\n",
    "}\n",
    "for (int i = 0; i < 3; i++)\n",
    "{\n",
    "    if (array1[i].Length == mylength)\n",
    "    {\n",
    "        result += array1[i];\n",
    "        result += \" \";\n",
    "    }\n",
    "}\n",
    "if (result.Length == (mylength + 1))\n",
    "{\n",
    "    Console.WriteLine(\"Longest word is :\" + result);\n",
    "}\n",
    "else\n",
    "{\n",
    "    Console.WriteLine(\"The longest words are:\" + result);\n",
    "}\n"
   ]
  },
  {
   "cell_type": "code",
   "execution_count": null,
   "id": "97f066d7",
   "metadata": {},
   "outputs": [],
   "source": [
    "#2.d.Which composer comes first in the dictionary: 'Berlioz', 'Borodin', 'Brian',\n",
    "#'Bartok', 'Bellini', 'Buxtehude', 'Bernstein'.Which one comes last?\n",
    "\n",
    "Console.WriteLine(\"Enter your 7 words to sort: \");\n",
    "string[] ray1 = new string[7];\n",
    "for (int i = 0; i < 7; i++)\n",
    "{\n",
    "    ray1[i] = Console.ReadLine();\n",
    "\n",
    "}\n",
    "\n",
    "Array.Sort(ray1);\n",
    "Console.WriteLine(\"The sorted array is: \");\n",
    "for (int i = 0; i < 7; i++)\n",
    "{\n",
    "    Console.WriteLine(ray1[i]);\n",
    "}"
   ]
  }
 ],
 "metadata": {
  "kernelspec": {
   "display_name": ".NET (C#)",
   "language": "C#",
   "name": ".net-csharp"
  },
  "language_info": {
   "file_extension": ".cs",
   "mimetype": "text/x-csharp",
   "name": "C#",
   "pygments_lexer": "csharp",
   "version": "8.0"
  }
 },
 "nbformat": 4,
 "nbformat_minor": 5
}
