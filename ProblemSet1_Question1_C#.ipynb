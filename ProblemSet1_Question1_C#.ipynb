{
 "cells": [
  {
   "cell_type": "code",
   "execution_count": null,
   "id": "0c657135",
   "metadata": {},
   "outputs": [],
   "source": [
    "Question 1 C#\n",
    "=============\n",
    "What data type is each of the following?\n",
    "5\n",
    "5.0\n",
    "5 > 1\n",
    "'5'\n",
    "5 * 2\n",
    "'5' * 2\n",
    "'5' + '2'\n",
    "5 / 2\n",
    "5 % 2\n",
    "{5, 2, 1}\n",
    "5 == 3\n",
    "Pi (the number)"
   ]
  },
  {
   "cell_type": "code",
   "execution_count": null,
   "id": "b31efde7",
   "metadata": {},
   "outputs": [
    {
     "name": "stdout",
     "output_type": "stream",
     "text": [
      "Datatype of 5 = System.Int32\n",
      "Datatype of 5.0 = System.Double\n",
      "Datatype of 5>1 = System.Boolean\n",
      "Datatype of '5' = System.Char\n",
      "Datatype of 5*2 = System.Int32\n",
      "Datatype of '5'*2 = System.Int32\n",
      "Datatype of '5'+'2' = System.Int32\n",
      "Datatype of 5/2 = System.Int32\n",
      "Datatype of 5%2 = System.Int32\n",
      "Datatype of {5,2,1} = System.ValueTuple`3[System.Int32,System.Int32,System.Int32]\n",
      "Datatype of (5==3) = System.Boolean\n",
      "Datatype of Pi = System.Double\n"
     ]
    }
   ],
   "source": [
    "var a = 5;\n",
    "Console.WriteLine(\"Datatype of \" + a + \" = \"+ a.GetType());\n",
    "var b = 5.0;\n",
    "Console.WriteLine(\"Datatype of 5.0 = \"+ b.GetType());\n",
    "var c = (5>1);\n",
    "Console.WriteLine(\"Datatype of 5>1 = \"+ c.GetType());\n",
    "var d = '5';\n",
    "Console.WriteLine(\"Datatype of '5' = \"+ d.GetType());\n",
    "var e = (5*2);\n",
    "Console.WriteLine(\"Datatype of 5*2 = \"+ e.GetType());\n",
    "var f = ('5' *2);\n",
    "Console.WriteLine(\"Datatype of '5'*2 = \"+ f.GetType());\n",
    "var g = ('5'+'2');\n",
    "Console.WriteLine(\"Datatype of '5'+'2' = \"+ g.GetType());\n",
    "var h = (5/2);\n",
    "Console.WriteLine(\"Datatype of 5/2 = \"+ h.GetType());\n",
    "var i = (5%2);\n",
    "Console.WriteLine(\"Datatype of 5%2 = \"+ i.GetType());\n",
    "var j = (5,2,1);\n",
    "Console.WriteLine(\"Datatype of {5,2,1} = \"+ j.GetType());\n",
    "var k = (5==3);\n",
    "Console.WriteLine(\"Datatype of (5==3) = \"+ k.GetType());\n",
    "var l = Math.PI;\n",
    "Console.WriteLine(\"Datatype of Pi = \"+ l.GetType());"
   ]
  },
  {
   "cell_type": "code",
   "execution_count": null,
   "id": "1ea93bc9",
   "metadata": {},
   "outputs": [],
   "source": []
  },
  {
   "cell_type": "code",
   "execution_count": null,
   "id": "1696c73a",
   "metadata": {},
   "outputs": [],
   "source": [
    "\n"
   ]
  }
 ],
 "metadata": {
  "kernelspec": {
   "display_name": ".NET (C#)",
   "language": "C#",
   "name": ".net-csharp"
  },
  "language_info": {
   "file_extension": ".cs",
   "mimetype": "text/x-csharp",
   "name": "C#",
   "pygments_lexer": "csharp",
   "version": "8.0"
  }
 },
 "nbformat": 4,
 "nbformat_minor": 5
}
